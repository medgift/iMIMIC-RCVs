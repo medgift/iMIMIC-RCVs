{
 "cells": [
  {
   "cell_type": "markdown",
   "metadata": {},
   "source": [
    "# Regression Concept Vectors for Bidirectional Relevance Scores in Histopathology"
   ]
  },
  {
   "cell_type": "code",
   "execution_count": 44,
   "metadata": {
    "collapsed": true
   },
   "outputs": [],
   "source": [
    "import sys\n",
    "sys.path.append('./scripts/keras_vis_rcv')\n",
    "sys.path.append('./scripts/models')\n",
    "import rcv_utils\n",
    "import os\n",
    "import numpy as np\n",
    "from camnet import Camnet\n",
    "import keras.backend as K\n",
    "from PIL import Image\n",
    "import matplotlib.pyplot as plt\n",
    "import scipy.stats\n",
    "import h5py \n",
    "import pandas as pd\n",
    "# \n",
    "import warnings\n",
    "warnings.filterwarnings('ignore') # only temporary"
   ]
  },
  {
   "cell_type": "markdown",
   "metadata": {},
   "source": [
    "As a first thing, we load ResNet101 finetuned to classify between tumor and non-tumor patches. \n",
    "The network has been trained on 224x224 patches randomly sampled from the highest resolution level of the WSIs in Camelyon16 (hopefully) and Camelyon17. "
   ]
  },
  {
   "cell_type": "code",
   "execution_count": 2,
   "metadata": {
    "collapsed": true
   },
   "outputs": [],
   "source": [
    "# loading the model \n",
    "CONFIG_FILE='./models/0528-1559/config.cfg'\n",
    "cam_net = Camnet(CONFIG_FILE)\n",
    "bc_model=cam_net.get_model()\n",
    "bc_model.load_weights('./models/0528-1559/tumor_classifier.h5')"
   ]
  },
  {
   "cell_type": "markdown",
   "metadata": {},
   "source": [
    "We load the dataset used to extract concepts about the nuclei morphology and texture. The DATASETNAME for nuclei segmentation contains 6 Breast Cancer WSIs. From them we sample 300 random patches and we compute statistics on the nuclei morphology and texture. "
   ]
  },
  {
   "cell_type": "code",
   "execution_count": 3,
   "metadata": {},
   "outputs": [
    {
     "name": "stdout",
     "output_type": "stream",
     "text": [
      "Using brightness standardization\n"
     ]
    }
   ],
   "source": [
    "# path: path to a the folder that contains the images with the concept annotations\n",
    "patches, masks, nuclei, stats = rcv_utils.get_norm_patches(path='./data/training/')"
   ]
  },
  {
   "cell_type": "code",
   "execution_count": 4,
   "metadata": {
    "collapsed": true
   },
   "outputs": [],
   "source": [
    "# Nuclei morphology statistics\n",
    "nuclei_morph = rcv_utils.nuclei_morphology(stats)\n",
    "# Nuclei texture statistics\n",
    "nuclei_text = rcv_utils.nuclei_texture(patches, nuclei)"
   ]
  },
  {
   "cell_type": "markdown",
   "metadata": {},
   "source": [
    "We predict the cancer probability for each one of the concept-patches"
   ]
  },
  {
   "cell_type": "code",
   "execution_count": 5,
   "metadata": {},
   "outputs": [
    {
     "name": "stdout",
     "output_type": "stream",
     "text": [
      "[cam_net][data_preprocessing] Subtracting Imagenet mean and dividing by its std.\n",
      "[cam_net][data_preprocessing] data mean:  54.6089920059\n",
      "[cam_net][data_preprocessing] data std:  53.9140433495\n"
     ]
    }
   ],
   "source": [
    "inputs = np.float64(patches)\n",
    "inputs = cam_net.data_preprocessing(inputs)\n",
    "predictions = bc_model.predict(inputs[:50])"
   ]
  },
  {
   "cell_type": "code",
   "execution_count": 6,
   "metadata": {
    "collapsed": true
   },
   "outputs": [],
   "source": [
    "predictions = predictions.reshape((50,))\n",
    "np.save('results/predictions', predictions)"
   ]
  },
  {
   "cell_type": "markdown",
   "metadata": {},
   "source": [
    "## Step 0. Correlation Analysis\n"
   ]
  },
  {
   "cell_type": "markdown",
   "metadata": {},
   "source": [
    "We first show the correlation between some characteristics of the nuclei and the network predictions.  "
   ]
  },
  {
   "cell_type": "code",
   "execution_count": 7,
   "metadata": {},
   "outputs": [
    {
     "name": "stdout",
     "output_type": "stream",
     "text": [
      "area:  (0.62066103189466026, 1.5224397446289404e-06)\n",
      "perimeter:  (0.62216355917724753, 1.4121380525885074e-06)\n",
      "eccentricity:  (0.1321545559874534, 0.36026529514443173)\n",
      "mjaxis:  (0.66876241751750298, 1.1077474947002528e-07)\n",
      "euler:  (0.43070242003012688, 0.0017945446820594757)\n",
      "contrast:  (0.58483825629078512, 8.1937717783588939e-06)\n",
      "ASM:  (0.49605781229640544, 0.00024883323374001368)\n",
      "correlation:  (-0.28398369834904047, 0.045647764971697549)\n"
     ]
    }
   ],
   "source": [
    "# Correlation analysis and p-values\n",
    "def corr_analysis(feature, pred):\n",
    "    return scipy.stats.pearsonr(np.array(feature), np.array(pred))\n",
    "# Correlation analysis of morphology statistics\n",
    "print 'area: ', corr_analysis(np.array(nuclei_morph['area'][:50]).reshape((50,)), predictions)\n",
    "print 'perimeter: ', corr_analysis(nuclei_morph['perimeter'][:50], predictions)\n",
    "print 'eccentricity: ', corr_analysis(nuclei_morph['eccentricity'][:50], predictions)\n",
    "print 'mjaxis: ', corr_analysis(nuclei_morph['mjaxis'][:50], predictions)\n",
    "print 'euler: ', corr_analysis(nuclei_morph['euler'][:50], predictions)\n",
    "# Correlation analysis of texture features\n",
    "print 'contrast: ', corr_analysis(nuclei_text['contrast'][:50], predictions)\n",
    "print 'ASM: ', corr_analysis(nuclei_text['ASM'][:50], predictions)\n",
    "print 'correlation: ', corr_analysis(nuclei_text['correlation'][:50], predictions)"
   ]
  },
  {
   "cell_type": "markdown",
   "metadata": {},
   "source": [
    "Contrast and dissimilarity seem to be correlated with the predictions, as well. We will analyse these concepts.\n",
    "NB. Correlation seems negatively correlated with the prediction, so we could potentially think of it as a Reverse Concept for classification, which is indicative of the class non-cancer. "
   ]
  },
  {
   "cell_type": "markdown",
   "metadata": {},
   "source": [
    "We will now extract the high-dimensional representations learned at layer each layer, namely the ResNet features of the input patches, with a forward pass.\n",
    "These features will then be used to learn the concept vectors. "
   ]
  },
  {
   "cell_type": "markdown",
   "metadata": {},
   "source": [
    "# Step 2. Linear Regression in the activation space"
   ]
  },
  {
   "cell_type": "code",
   "execution_count": 8,
   "metadata": {
    "collapsed": true
   },
   "outputs": [],
   "source": [
    "layers = ['conv1',\n",
    "          'res2a',\n",
    "          'res2b',\n",
    "          'res2c',\n",
    "          'res3a', \n",
    "          'res3b1',\n",
    "          'res3b2',\n",
    "          'res3b3',\n",
    "          'res4a', \n",
    "          'res4b1',\n",
    "          'res4b2',\n",
    "          'res4b3',\n",
    "          'res4b4',\n",
    "          'res4b5',\n",
    "          'res4b6',\n",
    "          'res4b7',\n",
    "          'res4b8',\n",
    "          'res4b9',\n",
    "          'res4b10',\n",
    "          'res4b15',\n",
    "          'res4b16',\n",
    "          'res4b17',\n",
    "          'res4b18',\n",
    "          'res4b19',\n",
    "          'res4b20',\n",
    "          'res5a'  \n",
    "         ]\n",
    "l = 'res4a'\n",
    "concepts=['perimeter',\n",
    " 'area',\n",
    " 'mjaxis',\n",
    " 'eccentricity',\n",
    " 'euler',\n",
    " 'contrast', \n",
    " 'ASM',\n",
    " 'correlation',]\n",
    "max_rep = 30"
   ]
  },
  {
   "cell_type": "code",
   "execution_count": 18,
   "metadata": {
    "scrolled": true
   },
   "outputs": [
    {
     "name": "stdout",
     "output_type": "stream",
     "text": [
      "Using brightness standardization\n",
      "[cam_net][data_preprocessing] Subtracting Imagenet mean and dividing by its std.\n",
      "[cam_net][data_preprocessing] data mean:  54.6089920059\n",
      "[cam_net][data_preprocessing] data std:  53.9140433495\n"
     ]
    }
   ],
   "source": [
    "# set to true if you want to generate new patches for the concepts at each repetition\n",
    "# note: you will need to download the original tissue images in data/breast_nuclei/Tissue Images/\n",
    "generate_patches = False \n",
    "if not generate_patches:\n",
    "    max_rep=1\n",
    "    \n",
    "for repetition in range(0, max_rep):\n",
    "    patches, masks, nuclei, stats = rcv_utils.get_norm_patches(path='./data/training/')\n",
    "    if generate_patches:\n",
    "        tr_set=rcv_utils.get_cv_training_set('./data/breast_nuclei/Tissue Images/', repetition) \n",
    "        patches, masks, nuclei, stats = rcv_utils.get_norm_patches(path='./data/training/'+str(repetition))\n",
    "    nuclei_morph = rcv_utils.nuclei_morphology(stats)\n",
    "    # Nuclei texture statistics\n",
    "    nuclei_text = rcv_utils.nuclei_texture(patches, nuclei)\n",
    "    inputs = np.float64(patches)\n",
    "    inputs = cam_net.data_preprocessing(inputs)\n",
    "    get_layer_output = K.function([bc_model.layers[0].input],\n",
    "                              [bc_model.get_layer(l).output])\n",
    "    feats = get_layer_output([inputs])\n",
    "    if not os.path.exists('./rcv/'):\n",
    "        os.mkdir('./rcv/')\n",
    "        if not os.path.exists('./rcv/phis/'):\n",
    "            os.mkdir('./rcv/phis/')\n",
    "    np.save('./rcv/phis/'+str(repetition)+'_concepts_phis_'+l, np.asarray(feats[0]))"
   ]
  },
  {
   "cell_type": "code",
   "execution_count": 40,
   "metadata": {
    "scrolled": true
   },
   "outputs": [
    {
     "name": "stdout",
     "output_type": "stream",
     "text": [
      "Using brightness standardization\n",
      "N.  0 ..\n",
      "200\n",
      "0.459402285774\n",
      "N.  1 ..\n",
      "200\n",
      "0.335698506438\n",
      "N.  2 ..\n",
      "200\n",
      "0.453091438777\n",
      "0.416064076996\n",
      "angle:  1.06106369359\n",
      "angle:  0.994218057575\n",
      "N.  0 ..\n",
      "200\n",
      "0.448674232182\n",
      "N.  1 ..\n",
      "200\n",
      "0.315202653131\n",
      "N.  2 ..\n",
      "200\n",
      "0.448318189053\n",
      "0.404065024789\n",
      "angle:  1.07867461859\n",
      "angle:  1.00296499737\n",
      "N.  0 ..\n",
      "200\n",
      "0.456488194808\n",
      "N.  1 ..\n",
      "200\n",
      "0.444380553791\n",
      "N.  2 ..\n",
      "200\n",
      "0.484131962423\n",
      "0.461666903674\n",
      "angle:  0.993025099194\n",
      "angle:  0.918834190707\n",
      "N.  0 ..\n",
      "200\n",
      "-0.126889132899\n",
      "N.  1 ..\n",
      "200\n",
      "-0.119871534199\n",
      "N.  2 ..\n",
      "200\n",
      "-0.123965850344\n",
      "-0.123575505814\n",
      "angle:  1.04855668124\n",
      "angle:  1.16153941898\n",
      "N.  0 ..\n",
      "200\n",
      "0.0271395091193\n",
      "N.  1 ..\n",
      "200\n",
      "-0.0225373776611\n",
      "N.  2 ..\n",
      "200\n",
      "-0.507219905002\n",
      "-0.167539257848\n",
      "angle:  1.38531411928\n",
      "angle:  0.788427066728\n",
      "N.  0 ..\n",
      "200\n",
      "0.420685952218\n",
      "N.  1 ..\n",
      "200\n",
      "0.397311874234\n",
      "N.  2 ..\n",
      "200\n",
      "0.420985386782\n",
      "0.412994404411\n",
      "angle:  1.04506093013\n",
      "angle:  0.969541984324\n",
      "N.  0 ..\n",
      "200\n",
      "0.399911782754\n",
      "N.  1 ..\n",
      "200\n",
      "0.50118574171\n",
      "N.  2 ..\n",
      "200\n",
      "0.50792033489\n",
      "0.469672619785\n",
      "angle:  1.07942743731\n",
      "angle:  0.771656347516\n",
      "N.  0 ..\n",
      "200\n",
      "0.613403523935\n",
      "N.  1 ..\n",
      "200\n",
      "0.516211868871\n",
      "N.  2 ..\n",
      "200\n",
      "0.434872237576\n",
      "0.521495876794\n",
      "angle:  1.10044672199\n",
      "angle:  1.16904662706\n"
     ]
    }
   ],
   "source": [
    "feats=[]\n",
    "for repetition in range(max_rep):\n",
    "    patches, masks, nuclei, stats = rcv_utils.get_norm_patches(path='./data/training/'+str(repetition))\n",
    "    nuclei_morph = rcv_utils.nuclei_morphology(stats)\n",
    "    nuclei_text = rcv_utils.nuclei_texture(patches, nuclei)\n",
    "    feats=np.load('./rcv/phis/'+str(repetition)+'_concepts_phis_res4a.npy')\n",
    "    X=(np.asarray([x.ravel() for x in feats], dtype=np.float64))\n",
    "    for c in concepts[:-3]:\n",
    "        reg_score, cv = rcv_utils.solve_regression(X, np.asarray(nuclei_morph[c]))\n",
    "        np.save('./rcv/reg_score_'+c+'_'+str(repetition)+'.npy', reg_score)\n",
    "        np.save('./rcv/rcv_'+c+'_'+str(repetition)+'.npy', cv)\n",
    "    for c in concepts[-3:]:\n",
    "        reg_score, cv = rcv_utils.solve_regression(X, np.asarray(nuclei_text[c]))\n",
    "        np.save('./rcv/reg_score_'+c+'_'+str(repetition)+'.npy', reg_score)\n",
    "        np.save('./rcv/rcv_'+c+'_'+str(repetition)+'.npy', cv)\n",
    "        "
   ]
  },
  {
   "cell_type": "markdown",
   "metadata": {},
   "source": [
    "# Step 3. Sensitivity scores"
   ]
  },
  {
   "cell_type": "markdown",
   "metadata": {},
   "source": [
    "We compute sensitivity scores as the directional derivative of the network output on the RCV direction in the activation space."
   ]
  },
  {
   "cell_type": "code",
   "execution_count": 41,
   "metadata": {},
   "outputs": [
    {
     "name": "stdout",
     "output_type": "stream",
     "text": [
      "normal\n",
      "normal/level7\n",
      "normal/level7/centre0\n",
      "normal/level7/centre0/patient010\n",
      "normal/level7/centre0/patient010/node4\n",
      "normal/level7/centre0/patient010/node4/locations\n",
      "normal/level7/centre0/patient010/node4/patches\n",
      "normal/level7/centre1\n",
      "normal/level7/centre1/patient030\n",
      "normal/level7/centre1/patient030/node4\n",
      "normal/level7/centre1/patient030/node4/locations\n",
      "normal/level7/centre1/patient030/node4/patches\n",
      "tumor\n",
      "tumor/level7\n",
      "tumor/level7/centre0\n",
      "tumor/level7/centre0/patient010\n",
      "tumor/level7/centre0/patient010/node4\n",
      "tumor/level7/centre0/patient010/node4/locations\n",
      "tumor/level7/centre0/patient010/node4/patches\n",
      "tumor/level7/centre1\n",
      "tumor/level7/centre1/patient030\n",
      "tumor/level7/centre1/patient030/node4\n",
      "tumor/level7/centre1/patient030/node4/locations\n",
      "tumor/level7/centre1/patient030/node4/patches\n",
      "Using brightness standardization\n",
      "[cam_net][data_preprocessing] Subtracting Imagenet mean and dividing by its std.\n",
      "[cam_net][data_preprocessing] data mean:  54.4718786671\n",
      "[cam_net][data_preprocessing] data std:  55.1855701072\n"
     ]
    }
   ],
   "source": [
    "# loading the test inputs\n",
    "PWD = './data/'\n",
    "h5file = 'patches.hdf5'\n",
    "db = h5py.File(os.path.join(PWD, h5file), 'r')\n",
    "os.path.join(PWD, h5file)\n",
    "def print_info(name, obj):\n",
    "    print name \n",
    "db.visititems(print_info)\n",
    "tumor_patches = db['tumor/level7/centre0/patient010/node4/patches']\n",
    "normalizer = rcv_utils.get_normalizer()\n",
    "normalised_tumor_patches = np.array([rcv_utils.normalize_patch(np.uint8(patch), normalizer) for patch in tumor_patches[0:3000:10]])\n",
    "test_inputs = np.float64(normalised_tumor_patches)\n",
    "test_inputs = cam_net.data_preprocessing(test_inputs)"
   ]
  },
  {
   "cell_type": "code",
   "execution_count": 42,
   "metadata": {},
   "outputs": [
    {
     "name": "stdout",
     "output_type": "stream",
     "text": [
      "contrast\n",
      "wrt_tensor Tensor(\"res4a/add:0\", shape=(?, 14, 14, 1024), dtype=float32)\n",
      "ASM\n",
      "wrt_tensor Tensor(\"res4a/add:0\", shape=(?, 14, 14, 1024), dtype=float32)\n",
      "correlation\n",
      "wrt_tensor Tensor(\"res4a/add:0\", shape=(?, 14, 14, 1024), dtype=float32)\n"
     ]
    }
   ],
   "source": [
    "for concept in concepts[5:]:\n",
    "    for i in range(0, max_rep):\n",
    "        print concept\n",
    "        rcv = np.load('./rcv/rcv_'+concept+'_'+str(i)+'.npy')\n",
    "        rcv /= np.linalg.norm(rcv)\n",
    "        repetition = 0\n",
    "        for p in range(len(test_inputs[:50])):\n",
    "            nnn = rcv_utils.compute_tcav(bc_model,-1,0, np.expand_dims(test_inputs[p], axis=0), wrt_tensor=bc_model.get_layer('res4a').output)\n",
    "            flattened_derivative=nnn.ravel()\n",
    "            score = np.multiply(-1, np.dot(flattened_derivative, rcv))\n",
    "            filet=open('rcv_'+concept+'_'+str(i)+'.txt', 'a')\n",
    "            filet.write(str(repetition)+','+str(score)+'\\n')\n",
    "            filet.close()            "
   ]
  },
  {
   "cell_type": "markdown",
   "metadata": {},
   "source": [
    "We compute TCAV and Br scores and check statistical relevance"
   ]
  },
  {
   "cell_type": "code",
   "execution_count": 59,
   "metadata": {},
   "outputs": [
    {
     "name": "stdout",
     "output_type": "stream",
     "text": [
      "Random TCAVs\n",
      "[-0.15843569 -0.0553071   1.06769004  0.69924097  1.03268698  0.65623157\n",
      "  0.62613456  0.32900391  0.79106508  0.19650627  0.3400684   0.53475883\n",
      "  0.54473107  0.09434329  0.16437176  0.3469437   0.1601024  -0.12309931\n",
      "  0.76100341 -0.51564078  1.0972227   0.71167845 -0.06513753 -0.18023727\n",
      "  1.12951542  0.08763522 -0.36464924  0.39513252  1.10855963  0.87130944]\n"
     ]
    }
   ],
   "source": [
    "print 'Random TCAVs'\n",
    "reload(rcv_utils)\n",
    "N=50.0\n",
    "mmax=30\n",
    "TCAVs=np.zeros((mmax,))\n",
    "Brs=np.zeros((mmax,))\n",
    "VBrs=np.zeros((mmax,))\n",
    "real_TCAVs=np.ones((mmax,))\n",
    "real_Brs=np.zeros((mmax,))\n",
    "\n",
    "for concept in concepts:\n",
    "    TCAVs=np.ones((mmax,))* np.random.normal(0.45, 0.55, ((mmax,)))\n",
    "    ## The TCAV score for random concept measures is around 0.5\n",
    "    ## While the Br score is 0\n",
    "    ## in the following loop we check this by computing TCAV and Br on random directions\n",
    "    #for i in range(0,10):\n",
    "    #    df=[]\n",
    "    #    df=pd.read_csv('./'+'tcavrandom_'+str(i)+'.txt', header=None)\n",
    "    #    TCAV = np.sum(np.sign(np.array(df[1]))>0) / np.float(len(np.array(df[1])))\n",
    "    #    R = 0\n",
    "    #    Br = R * np.mean(np.array(df[1])) / np.std(np.array(df[1]))\n",
    "    #    TCAVs[i]=TCAV\n",
    "    #    Brs[i]=Br\n",
    "    for i in range(0,mmax):\n",
    "        if os.path.exists('./'+'rcv_'+concept+'_'+str(i)+'.txt'):\n",
    "            df=[]\n",
    "            df=pd.read_csv('./'+'rcv_'+concept+'_'+str(i)+'.txt', header=None)\n",
    "            #print './'+'tcavrandom_'+str(i)+'.txt'\n",
    "            TCAV = np.sum(np.sign(np.array(df[1]))>0) /np.float(len(np.array(df[1])))\n",
    "            R = np.load('./rcv/reg_score_'+concept+'_'+str(i)+'.npy')\n",
    "            Br = R * np.mean(np.array(df[1])) / np.std(np.array(df[1]))\n",
    "            real_TCAVs[i]=TCAV\n",
    "            real_Brs[i]=Br\n",
    "                \n",
    "    plt.figure() \n",
    "    leg =[]\n",
    "    print TCAVs\n",
    "    \n",
    "    random_mu, random_variance, random_sigma, leg =  rcv_utils.plot_scores(TCAVs, leg, 'random_TCAV', 'orange')\n",
    "    mu, variance, sigma, leg =  rcv_utils.plot_scores(real_TCAVs, leg, 'TCAV', 'green')\n",
    "    br_mu, br_variange, br_sigma, leg =  rcv_utils.plot_scores(real_Brs, leg, 'Br', 'red')\n",
    "\n",
    "    plt.legend(leg[:4])\n",
    "    plt.title(concept)\n",
    "    plt.show()\n",
    "    \n",
    "    print 'random_TCAV', TCAVs, random_mu, random_variance, random_sigma\n",
    "    print 'TCAV', real_TCAVs, mu, variance, sigma  \n",
    "    \n",
    "    print 'T-test\" ', (mu - .5) * np.math.sqrt(len(real_TCAVs))/ (variance)\n",
    "\n",
    "    print 'Br', br_mu, br_variange, br_sigma\n",
    "    \n",
    "    print 'Br T-test\" ', (br_mu - 0) * np.math.sqrt(len(real_Brs))/ (br_variange)"
   ]
  },
  {
   "cell_type": "code",
   "execution_count": null,
   "metadata": {
    "collapsed": true
   },
   "outputs": [],
   "source": []
  }
 ],
 "metadata": {
  "kernelspec": {
   "display_name": "Python 2",
   "language": "python",
   "name": "python2"
  },
  "language_info": {
   "codemirror_mode": {
    "name": "ipython",
    "version": 2
   },
   "file_extension": ".py",
   "mimetype": "text/x-python",
   "name": "python",
   "nbconvert_exporter": "python",
   "pygments_lexer": "ipython2",
   "version": "2.7.14"
  }
 },
 "nbformat": 4,
 "nbformat_minor": 2
}
